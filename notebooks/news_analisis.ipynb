{
 "cells": [
  {
   "cell_type": "code",
   "execution_count": 5,
   "outputs": [],
   "source": [
    "import nltk\n",
    "import pandas as pd\n",
    "from happytransformer import HappyTextClassification\n",
    "from pathlib import Path\n",
    "from newsapi import NewsApiClient\n",
    "from sentiment_analisys import get_digests_by_terms_async, classify_digests_async, Prediction"
   ],
   "metadata": {
    "collapsed": false,
    "pycharm": {
     "name": "#%%\n"
    }
   }
  },
  {
   "cell_type": "code",
   "execution_count": 6,
   "outputs": [
    {
     "name": "stderr",
     "output_type": "stream",
     "text": [
      "07/08/2022 18:45:14 - INFO - happytransformer.happy_transformer -   Using model: cpu\n"
     ]
    }
   ],
   "source": [
    "nltk.data.path = [str(Path().resolve().parent.joinpath(\"nltk_data\"))]\n",
    "\n",
    "# nltk.download(\"punkt\", download_dir=\"./nltk_data\")\n",
    "\n",
    "# Init pass 9gPj8KZ8XJsLbcT\n",
    "api = NewsApiClient(api_key='98d763c2280d4820913c4abf3ff0270b')\n",
    "\n",
    "# classifier = HappyTextClassification(\n",
    "#     model_type=\"DISTILBERT\", num_labels=2,\n",
    "#     model_name=\"distilbert-base-uncased-finetuned-sst-2-english\")\n",
    "\n",
    "classifier = HappyTextClassification(\n",
    "    model_type=\"BERT\", num_labels=3,\n",
    "    model_name=\"ProsusAI/finbert\")"
   ],
   "metadata": {
    "collapsed": false,
    "pycharm": {
     "name": "#%%\n"
    }
   }
  },
  {
   "cell_type": "code",
   "execution_count": 7,
   "outputs": [],
   "source": [
    "# [source[\"id\"] for source in api.get_sources()[\"sources\"]]"
   ],
   "metadata": {
    "collapsed": false,
    "pycharm": {
     "name": "#%%\n"
    }
   }
  },
  {
   "cell_type": "code",
   "execution_count": 8,
   "outputs": [],
   "source": [
    "\n",
    "# sources = \"business-insider,crypto-coins-news,financial-post,fortune,google-news,info-money,hacker-news,reddit-r-all,Bloomberg\"\n",
    "sources = \"business-insider,crypto-coins-news,financial-post,fortune,google-news,info-money,hacker-news,reddit-r-all\"\n",
    "\n",
    "terms = \"bitcoin,ethereum\"\n",
    "\n",
    "digests_by_term = await get_digests_by_terms_async(terms, sources, api)\n",
    "\n",
    "predictions: [Prediction] = [\n",
    "    Prediction(\n",
    "        results=await classify_digests_async(digests, classifier),\n",
    "        term=term\n",
    "    ) for term, digests in digests_by_term\n",
    "]\n",
    "\n",
    "# [digest.summary for digest in predictions[0][\"digests\"]]\n",
    "\n",
    "# [prediction for prediction in predictions]"
   ],
   "metadata": {
    "collapsed": false,
    "pycharm": {
     "name": "#%%\n"
    }
   }
  },
  {
   "cell_type": "code",
   "execution_count": 10,
   "outputs": [],
   "source": [
    "values = [(prediction.term, classification.label, classification.score, digest.url)\n",
    "          for prediction in predictions\n",
    "          for (digest, classification) in prediction.results]\n",
    "\n",
    "df = pd.DataFrame(values, columns= ['term','label', 'score', 'source'])\n",
    "\n",
    "df"
   ],
   "metadata": {
    "collapsed": false,
    "pycharm": {
     "name": "#%%\n"
    }
   }
  },
  {
   "cell_type": "code",
   "execution_count": 10,
   "outputs": [
    {
     "name": "stdout",
     "output_type": "stream",
     "text": [
      "bitcoin: should not buy\n",
      "positive = 0.3333333333333333\n",
      "negative = 0.3333333333333333\n",
      "neutral = 0.3333333333333333\n",
      "\n",
      "ethereum: should not buy\n",
      "positive = 0.16666666666666666\n",
      "negative = 0.3333333333333333\n",
      "neutral = 0.5\n",
      "\n"
     ]
    }
   ],
   "source": [
    "for prediction in predictions:\n",
    "    term = prediction.term\n",
    "    labels = {\"negative\": 0, \"positive\": 0, \"neutral\": 0}\n",
    "    results_count = len(prediction.results)\n",
    "    for digest, classification in prediction.results:\n",
    "        labels[classification.label] += 1\n",
    "        total = labels[\"positive\"] + labels[\"negative\"] + labels[\"neutral\"]\n",
    "        # print(f\"{term} = {classification.label}\")\n",
    "        if results_count == total:\n",
    "            positive_ratio = labels[\"positive\"] / total\n",
    "            negative_ratio = labels[\"negative\"] / total\n",
    "            neutral_ratio = labels[\"neutral\"] / total\n",
    "            should_buy = positive_ratio > negative_ratio and positive_ratio > 0\n",
    "            print(f\"{term}: {'should buy' if should_buy else 'should not buy'}\")\n",
    "            print(f\"positive = {positive_ratio}\")\n",
    "            print(f\"negative = {negative_ratio}\")\n",
    "            print(f\"neutral = {neutral_ratio}\")\n",
    "            print(\"\")\n"
   ],
   "metadata": {
    "collapsed": false,
    "pycharm": {
     "name": "#%%\n"
    }
   }
  }
 ],
 "metadata": {
  "kernelspec": {
   "display_name": "Python 3",
   "language": "python",
   "name": "python3"
  },
  "language_info": {
   "codemirror_mode": {
    "name": "ipython",
    "version": 2
   },
   "file_extension": ".py",
   "mimetype": "text/x-python",
   "name": "python",
   "nbconvert_exporter": "python",
   "pygments_lexer": "ipython2",
   "version": "2.7.6"
  }
 },
 "nbformat": 4,
 "nbformat_minor": 0
}