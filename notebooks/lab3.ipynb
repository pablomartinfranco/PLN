{
 "cells": [
  {
   "cell_type": "markdown",
   "source": [
    "## 1. Procesamiento\tde\ttexto\tbásico\tcon\tSciKit-learn"
   ],
   "metadata": {
    "collapsed": false,
    "pycharm": {
     "name": "#%% md\n"
    }
   }
  },
  {
   "cell_type": "code",
   "execution_count": 41,
   "outputs": [
    {
     "data": {
      "text/plain": "<Figure size 432x288 with 1 Axes>",
      "image/png": "[encoded data removed]"
     },
     "metadata": {
      "needs_background": "light"
     },
     "output_type": "display_data"
    }
   ],
   "source": [
    "import sklearn\n",
    "import numpy as np\n",
    "import matplotlib.pyplot as plt\n",
    "\n",
    "data = np.array([[1,2], [2,3], [3,4], [4,5], [5,6]])\n",
    "x = data[:,0]\n",
    "y= data[:,1]\n",
    "\n",
    "plt.scatter(x,y)\n",
    "plt.grid(True)\n",
    "plt.show()"
   ],
   "metadata": {
    "collapsed": false,
    "pycharm": {
     "name": "#%%\n"
    }
   }
  },
  {
   "cell_type": "markdown",
   "source": [
    "## 2.\tPreprocesamiento\tde\tTexto\tcon\tSciKit-learn"
   ],
   "metadata": {
    "collapsed": false,
    "pycharm": {
     "name": "#%% md\n"
    }
   }
  },
  {
   "cell_type": "code",
   "execution_count": 42,
   "outputs": [],
   "source": [
    "from sklearn.feature_extraction.text import CountVectorizer\n",
    "vectorizer = CountVectorizer(min_df=1)"
   ],
   "metadata": {
    "collapsed": false,
    "pycharm": {
     "name": "#%%\n"
    }
   }
  },
  {
   "cell_type": "markdown",
   "source": [
    "Una\tvez\tque\themos\tcreado\tla\tinstancia,\tpodemos\tutilizarlo\tpara\textraer\tuna\tbolsa\tde\n",
    "palabras"
   ],
   "metadata": {
    "collapsed": false,
    "pycharm": {
     "name": "#%% md\n"
    }
   }
  },
  {
   "cell_type": "code",
   "execution_count": 43,
   "outputs": [],
   "source": [
    "content = [\"How to format my hard disk\", \" Hard disk format problems \"]\n",
    "X = vectorizer.fit_transform(content)"
   ],
   "metadata": {
    "collapsed": false,
    "pycharm": {
     "name": "#%%\n"
    }
   }
  },
  {
   "cell_type": "markdown",
   "source": [
    "fit_transform ha\textraído\tsiete\tcaracterísticas\tde\tlos\tdos\t“documentos”;\n",
    "podemos\tver\teso\tcon\tel\tmétodo\tget_feature_names()."
   ],
   "metadata": {
    "collapsed": false,
    "pycharm": {
     "name": "#%% md\n"
    }
   }
  },
  {
   "cell_type": "code",
   "execution_count": 44,
   "outputs": [
    {
     "name": "stderr",
     "output_type": "stream",
     "text": [
      "D:\\Dev\\source\\PLN-Notebook\\venv-cp310\\lib\\site-packages\\sklearn\\utils\\deprecation.py:87: FutureWarning: Function get_feature_names is deprecated; get_feature_names is deprecated in 1.0 and will be removed in 1.2. Please use get_feature_names_out instead.\n",
      "  warnings.warn(msg, category=FutureWarning)\n"
     ]
    },
    {
     "data": {
      "text/plain": "['disk', 'format', 'hard', 'how', 'my', 'problems', 'to']"
     },
     "execution_count": 44,
     "metadata": {},
     "output_type": "execute_result"
    }
   ],
   "source": [
    "vectorizer.get_feature_names()"
   ],
   "metadata": {
    "collapsed": false,
    "pycharm": {
     "name": "#%%\n"
    }
   }
  },
  {
   "cell_type": "markdown",
   "source": [
    "Se\tpuede\tver\tcuántas\tveces\tcada\tuna\tde\testas\tsiete\tfeatures se\tproduce\ten\n",
    "los\tdos\tdocumentos\thaciendo"
   ],
   "metadata": {
    "collapsed": false,
    "pycharm": {
     "name": "#%% md\n"
    }
   }
  },
  {
   "cell_type": "code",
   "execution_count": 45,
   "outputs": [
    {
     "data": {
      "text/plain": "array([[1, 1, 1, 1, 1, 0, 1],\n       [1, 1, 1, 0, 0, 1, 0]], dtype=int64)"
     },
     "execution_count": 45,
     "metadata": {},
     "output_type": "execute_result"
    }
   ],
   "source": [
    "X.toarray()"
   ],
   "metadata": {
    "collapsed": false,
    "pycharm": {
     "name": "#%%\n"
    }
   }
  },
  {
   "cell_type": "markdown",
   "source": [
    "Tenga\ten\tcuenta\tque\testa\tllamada\tdevuelve\tuna\tmatriz\tde\tdos\tfilas,\tuna\tpor\n",
    "`documentos'.\tCada\tfila\tde\tsiete\telementos.\tCada\telemento\tespecifica\tel\tnúmero\n",
    "de\telementos\tde\tuna\tdeterminada\tfeature\tse\tprodujo\ten\tese\tdocumento.\n",
    "Entonces:"
   ],
   "metadata": {
    "collapsed": false,
    "pycharm": {
     "name": "#%% md\n"
    }
   }
  },
  {
   "cell_type": "code",
   "execution_count": 46,
   "outputs": [
    {
     "data": {
      "text/plain": "array([1, 1, 1, 1, 1, 0, 1], dtype=int64)"
     },
     "execution_count": 46,
     "metadata": {},
     "output_type": "execute_result"
    }
   ],
   "source": [
    "X.toarray()[0]"
   ],
   "metadata": {
    "collapsed": false,
    "pycharm": {
     "name": "#%%\n"
    }
   }
  },
  {
   "cell_type": "code",
   "execution_count": 47,
   "outputs": [
    {
     "data": {
      "text/plain": "1"
     },
     "execution_count": 47,
     "metadata": {},
     "output_type": "execute_result"
    }
   ],
   "source": [
    "X.toarray()[1,2]"
   ],
   "metadata": {
    "collapsed": false,
    "pycharm": {
     "name": "#%%\n"
    }
   }
  },
  {
   "cell_type": "markdown",
   "source": [
    "El\tset\tde\tdatos\tse\tpuede\tencontrar\ten:\n",
    "https://qwone.com/~jason/20Newsgroups/\n",
    "Pero\tya\testá\tincluido\ten\tscikit-learn\ty\tse\tpuede\tcargar\ten\tPython\thaciendo"
   ],
   "metadata": {
    "collapsed": false,
    "pycharm": {
     "name": "#%% md\n"
    }
   }
  },
  {
   "cell_type": "markdown",
   "source": [
    "Para\tacelerar\tlas\tcosas,\ten\tel\tresto\tdel\tlaboratorio\tsólo\tutilizaremos\tun\tsubconjunto\n",
    "de\tlos\tdocumentos,\tlos\tque\tpertenecen\ta\tlas\tsiguientes\t4\tcategorías"
   ],
   "metadata": {
    "collapsed": false,
    "pycharm": {
     "name": "#%% md\n"
    }
   }
  },
  {
   "cell_type": "code",
   "execution_count": 48,
   "outputs": [],
   "source": [
    "from sklearn.datasets import fetch_20newsgroups\n",
    "\n",
    "categories = ['alt.atheism', 'soc.religion.christian', 'comp.graphics', 'sci.med']\n",
    "\n",
    "twenty_train = fetch_20newsgroups(subset='train', categories=categories, shuffle=True, random_state=42)"
   ],
   "metadata": {
    "collapsed": false,
    "pycharm": {
     "name": "#%%\n"
    }
   }
  },
  {
   "cell_type": "code",
   "execution_count": 49,
   "outputs": [
    {
     "data": {
      "text/plain": "4690"
     },
     "execution_count": 49,
     "metadata": {},
     "output_type": "execute_result"
    }
   ],
   "source": [
    "from sklearn.feature_extraction.text import CountVectorizer\n",
    "\n",
    "vectorizer = CountVectorizer()\n",
    "\n",
    "train_counts = vectorizer.fit_transform(twenty_train.data)\n",
    "\n",
    "vectorizer.vocabulary_.get('algorithm')"
   ],
   "metadata": {
    "collapsed": false,
    "pycharm": {
     "name": "#%%\n"
    }
   }
  },
  {
   "cell_type": "code",
   "execution_count": 50,
   "outputs": [
    {
     "data": {
      "text/plain": "35788"
     },
     "execution_count": 50,
     "metadata": {},
     "output_type": "execute_result"
    }
   ],
   "source": [
    "len(vectorizer.get_feature_names())"
   ],
   "metadata": {
    "collapsed": false,
    "pycharm": {
     "name": "#%%\n"
    }
   }
  },
  {
   "cell_type": "code",
   "execution_count": 51,
   "outputs": [
    {
     "data": {
      "text/plain": "['a',\n 'about',\n 'above',\n 'across',\n 'after',\n 'afterwards',\n 'again',\n 'against',\n 'all',\n 'almost',\n 'alone',\n 'along',\n 'already',\n 'also',\n 'although',\n 'always',\n 'am',\n 'among',\n 'amongst',\n 'amoungst']"
     },
     "execution_count": 51,
     "metadata": {},
     "output_type": "execute_result"
    }
   ],
   "source": [
    "vectorizer = CountVectorizer(stop_words = 'english')\n",
    "\n",
    "sorted(vectorizer.get_stop_words())[:20]"
   ],
   "metadata": {
    "collapsed": false,
    "pycharm": {
     "name": "#%%\n"
    }
   }
  },
  {
   "cell_type": "markdown",
   "source": [
    "## 3.\tPre-procesamiento\tmás\tavanzado\tcon\tNLTK"
   ],
   "metadata": {
    "collapsed": false,
    "pycharm": {
     "name": "#%% md\n"
    }
   }
  },
  {
   "cell_type": "markdown",
   "source": [
    "El\tsteamming\ten\t NLTK incluye\timplementaciones\tde\tvarios algoritmos\n",
    "muy\tconocidos y\tutilizados, incluyendo\tel\tPorter\tStemmer\ty\tel\tLancaster\n",
    "Stemmer.\t(Ver http://www.nltk.org/howto/stem.html para\tuna\n",
    "introducción\tgeneral\ty http://www.nltk.org/api/nltk.stem.html\t\tpara\n",
    "más\tdetalles,\tincluyendo\tlos\tidiomas\tcubiertos)"
   ],
   "metadata": {
    "collapsed": false,
    "pycharm": {
     "name": "#%% md\n"
    }
   }
  },
  {
   "cell_type": "code",
   "execution_count": 52,
   "outputs": [],
   "source": [
    "import nltk\n",
    "from pathlib import Path\n",
    "nltk.data.path = [str(Path().resolve().parent.joinpath(\"nltk_data\"))]\n",
    "\n",
    "s = nltk.stem.SnowballStemmer('english')"
   ],
   "metadata": {
    "collapsed": false,
    "pycharm": {
     "name": "#%%\n"
    }
   }
  },
  {
   "cell_type": "markdown",
   "source": [
    "Después\tde\tcrear\tel\tsteammer,\ta\tcontinuación,\tpuede\tutilizarlo\tpara\tllevar\ta\tla\n",
    "raíz\t(steam) palabras\tde\tla\tsiguiente\tmanera:"
   ],
   "metadata": {
    "collapsed": false,
    "pycharm": {
     "name": "#%% md\n"
    }
   }
  },
  {
   "cell_type": "code",
   "execution_count": 53,
   "outputs": [
    {
     "data": {
      "text/plain": "'cat'"
     },
     "execution_count": 53,
     "metadata": {},
     "output_type": "execute_result"
    }
   ],
   "source": [
    "s.stem(\"cats\")"
   ],
   "metadata": {
    "collapsed": false,
    "pycharm": {
     "name": "#%%\n"
    }
   }
  },
  {
   "cell_type": "code",
   "execution_count": 54,
   "outputs": [
    {
     "data": {
      "text/plain": "'love'"
     },
     "execution_count": 54,
     "metadata": {},
     "output_type": "execute_result"
    }
   ],
   "source": [
    "s.stem(\"loving\")"
   ],
   "metadata": {
    "collapsed": false,
    "pycharm": {
     "name": "#%%\n"
    }
   }
  },
  {
   "cell_type": "markdown",
   "source": [
    "Otros\ttipos\tde\tpre-procesamiento\tde\tNLTK\tincluye\timplementaciones\tde\n",
    "muchos\tde\tlos\tmódulos\tde\tprocesamiento previo\ty\tanalizadores\n",
    "sintácticos\tque\tdiscutimos\to\tdiscutiremos\ten\tlas clases:\n",
    "- identificadores\tde\tidioma\n",
    "- tokenizers\tpara\tvarios\tidiomas\n",
    "- divisores\tde\toraciones\n",
    "- POS\ttaggers\n",
    "- Chunkers\n",
    "- Parsers\n",
    "Además,\tNLTK\tincluye\timplementaciones\tde\tlos\taspectos\tdel\tanálisis\tde\ttexto\n",
    "que\tvamos\ta\tdiscutir\ten\teste\tmódulo,\tincluyendo\n",
    "- NER\t(Named\tEntity\tRecognition)\n",
    "- Análisis\tde\tlos\tsentimientos\n",
    "- Extraer\tinformación\tde\tlos\tmedios\tde\tredes sociales"
   ],
   "metadata": {
    "collapsed": false,
    "pycharm": {
     "name": "#%% md\n"
    }
   }
  },
  {
   "cell_type": "code",
   "execution_count": 55,
   "outputs": [],
   "source": [
    "from nltk.tokenize import word_tokenize\n",
    "from nltk.tokenize import word_tokenize\n",
    "text = word_tokenize(\"And now for something completely different\")"
   ],
   "metadata": {
    "collapsed": false,
    "pycharm": {
     "name": "#%%\n"
    }
   }
  },
  {
   "cell_type": "markdown",
   "source": [
    "producir\tuna\tversión\ttokenizada\tde\tla\tfrase,\tque\tluego\tpuede\tser\talimentado\ten\tel\n",
    "etiquetador\tPOS\t(\tpuede\tque tenga\tque\tdescargar\tel\tpaquete\t'\tmaxent_...'\tpara\thacer\n",
    "esto)"
   ],
   "metadata": {
    "collapsed": false,
    "pycharm": {
     "name": "#%% md\n"
    }
   }
  },
  {
   "cell_type": "code",
   "execution_count": 56,
   "outputs": [
    {
     "name": "stderr",
     "output_type": "stream",
     "text": [
      "[nltk_data] Downloading package averaged_perceptron_tagger to\n",
      "[nltk_data]     C:\\Users\\pfranco\\AppData\\Roaming\\nltk_data...\n",
      "[nltk_data]   Package averaged_perceptron_tagger is already up-to-\n",
      "[nltk_data]       date!\n",
      "[nltk_data] Downloading package maxent_treebank_pos_tagger to\n",
      "[nltk_data]     C:\\Users\\pfranco\\AppData\\Roaming\\nltk_data...\n",
      "[nltk_data]   Package maxent_treebank_pos_tagger is already up-to-\n",
      "[nltk_data]       date!\n"
     ]
    },
    {
     "data": {
      "text/plain": "[('And', 'CC'),\n ('now', 'RB'),\n ('for', 'IN'),\n ('something', 'NN'),\n ('completely', 'RB'),\n ('different', 'JJ')]"
     },
     "execution_count": 56,
     "metadata": {},
     "output_type": "execute_result"
    }
   ],
   "source": [
    "nltk.download('averaged_perceptron_tagger')\n",
    "nltk.download('maxent_treebank_pos_tagger')\n",
    "nltk.pos_tag(text)"
   ],
   "metadata": {
    "collapsed": false,
    "pycharm": {
     "name": "#%%\n"
    }
   }
  },
  {
   "cell_type": "markdown",
   "source": [
    "## 4.\tLa\tintegración\tel\tsteammer\tde\tNLTK\tcon\tel\tCountVectorizer\tde\tSciKit-learn"
   ],
   "metadata": {
    "collapsed": false,
    "pycharm": {
     "name": "#%% md\n"
    }
   }
  },
  {
   "cell_type": "code",
   "execution_count": 57,
   "outputs": [
    {
     "data": {
      "text/plain": "['john', 'bought', 'carrots', 'potatoes']"
     },
     "execution_count": 57,
     "metadata": {},
     "output_type": "execute_result"
    }
   ],
   "source": [
    "from sklearn.feature_extraction.text import CountVectorizer\n",
    "\n",
    "vectorizer = CountVectorizer(stop_words='english')\n",
    "\n",
    "analyze = vectorizer.build_analyzer()\n",
    "\n",
    "analyze(\"John bought carrots and potatoes\")"
   ],
   "metadata": {
    "collapsed": false,
    "pycharm": {
     "name": "#%%\n"
    }
   }
  },
  {
   "cell_type": "markdown",
   "source": [
    "Si\t modificamos\tbuild_analyzer\t()\tpara\taplicar\t\tel\tsteammer\tde\tNLTK\ta\tla\tsalida\tdel\n",
    "método\tbuild_analyzer\t(),\tobtenemos\tuna\tversión\tque\tderiva\tasí:"
   ],
   "metadata": {
    "collapsed": false,
    "pycharm": {
     "name": "#%% md\n"
    }
   }
  },
  {
   "cell_type": "code",
   "execution_count": 58,
   "outputs": [
    {
     "name": "stdout",
     "output_type": "stream",
     "text": [
      "john\n",
      "bought\n",
      "carrot\n",
      "potato\n"
     ]
    }
   ],
   "source": [
    "import nltk.stem\n",
    "\n",
    "english_stemmer\t= nltk.stem.SnowballStemmer('english')\n",
    "\n",
    "class StemmedCountVectorizer(CountVectorizer):\n",
    "\n",
    "    def\tbuild_analyzer(self):\n",
    "        analyzer = super(StemmedCountVectorizer, self).build_analyzer()\n",
    "        return lambda doc: (english_stemmer.stem(w)\tfor\tw in analyzer(doc))\n",
    "\n",
    "stem_vectorizer = StemmedCountVectorizer(min_df=1, stop_words='english')\n",
    "\n",
    "stem_analyze = stem_vectorizer.build_analyzer()\n",
    "\n",
    "Y = stem_analyze(\"John bought carrots and potatoes\")\n",
    "\n",
    "for tok in Y:\n",
    "    print(tok)"
   ],
   "metadata": {
    "collapsed": false,
    "pycharm": {
     "name": "#%%\n"
    }
   }
  },
  {
   "cell_type": "markdown",
   "source": [
    "Si\tutilizamos\teste\tVectorizer\tpara\textraer\tfeatures\tpara\tel\tsubconjunto\tdel\n",
    "dataset\t20_Newsgroups que\tconsideramos antes,\tvamos\ta\ttener\tun\tmenor\n",
    "número\tde\tfeatures"
   ],
   "metadata": {
    "collapsed": false,
    "pycharm": {
     "name": "#%% md\n"
    }
   }
  },
  {
   "cell_type": "code",
   "execution_count": 59,
   "outputs": [
    {
     "data": {
      "text/plain": "26888"
     },
     "execution_count": 59,
     "metadata": {},
     "output_type": "execute_result"
    }
   ],
   "source": [
    "from sklearn.datasets import fetch_20newsgroups\n",
    "\n",
    "categories = ['alt.atheism','soc.religion.christian','comp.graphics', 'sci.med']\n",
    "\n",
    "twenty_train = fetch_20newsgroups(subset='train', categories=categories, shuffle=True, random_state=42)\n",
    "\n",
    "train_counts = stem_vectorizer.fit_transform(twenty_train.data)\n",
    "\n",
    "len(stem_vectorizer.get_feature_names())"
   ],
   "metadata": {
    "collapsed": false,
    "pycharm": {
     "name": "#%%\n"
    }
   }
  },
  {
   "cell_type": "markdown",
   "source": [
    "## SpanishStemmedCountVectorizer"
   ],
   "metadata": {
    "collapsed": false,
    "pycharm": {
     "name": "#%% md\n"
    }
   }
  },
  {
   "cell_type": "code",
   "execution_count": 60,
   "outputs": [
    {
     "name": "stdout",
     "output_type": "stream",
     "text": [
      "el\n",
      "univers\n",
      "que\n",
      "otros\n",
      "llam\n",
      "la\n",
      "bibliotec\n",
      "se\n",
      "compon\n",
      "de\n",
      "un\n",
      "numer\n",
      "indefin\n",
      "tal\n",
      "vez\n",
      "infinit\n",
      "de\n",
      "gal\n",
      "hexagonal\n",
      "con\n",
      "vast\n",
      "poz\n",
      "de\n",
      "ventil\n",
      "en\n",
      "el\n",
      "medi\n",
      "cerc\n",
      "por\n",
      "barand\n",
      "bajisim\n",
      "desd\n",
      "cualqui\n",
      "hexagon\n",
      "se\n",
      "ven\n",
      "los\n",
      "pis\n",
      "inferior\n",
      "superior\n",
      "intermin\n",
      "la\n",
      "distribu\n",
      "de\n",
      "las\n",
      "gal\n",
      "es\n",
      "invari\n",
      "veint\n",
      "anaquel\n",
      "cinc\n",
      "larg\n",
      "anaquel\n",
      "por\n",
      "lad\n",
      "cubr\n",
      "tod\n",
      "los\n",
      "lad\n",
      "men\n",
      "dos\n",
      "su\n",
      "altur\n",
      "que\n",
      "es\n",
      "la\n",
      "de\n",
      "los\n",
      "pis\n",
      "exced\n",
      "apen\n",
      "la\n",
      "de\n",
      "un\n",
      "bibliotecari\n",
      "normal\n",
      "una\n",
      "de\n",
      "las\n",
      "car\n",
      "libr\n",
      "da\n",
      "un\n",
      "angost\n",
      "zaguan\n",
      "que\n",
      "desemboc\n",
      "en\n",
      "otra\n",
      "gal\n",
      "ident\n",
      "la\n",
      "primer\n",
      "tod\n",
      "izquierd\n",
      "derech\n",
      "del\n",
      "zaguan\n",
      "hay\n",
      "dos\n",
      "gabinet\n",
      "minuscul\n",
      "uno\n",
      "permit\n",
      "dorm\n",
      "de\n",
      "pie\n",
      "otro\n",
      "satisfac\n",
      "las\n",
      "neces\n",
      "final\n",
      "por\n",
      "ahi\n",
      "pas\n",
      "la\n",
      "escaler\n",
      "espiral\n",
      "que\n",
      "se\n",
      "abism\n",
      "se\n",
      "elev\n",
      "haci\n",
      "lo\n",
      "remot\n",
      "en\n",
      "el\n",
      "zaguan\n",
      "hay\n",
      "un\n",
      "espej\n",
      "que\n",
      "fielment\n",
      "duplic\n",
      "las\n",
      "aparient\n",
      "los\n",
      "hombr\n",
      "suel\n",
      "infer\n",
      "de\n",
      "ese\n",
      "espej\n",
      "que\n",
      "la\n",
      "bibliotec\n",
      "no\n",
      "es\n",
      "infinit\n",
      "si\n",
      "lo\n",
      "fuer\n",
      "realment\n",
      "que\n",
      "esa\n",
      "duplic\n",
      "ilusori\n",
      "yo\n",
      "prefier\n",
      "soñ\n",
      "que\n",
      "las\n",
      "superfici\n",
      "bruñ\n",
      "figur\n",
      "promet\n",
      "el\n",
      "infinit\n",
      "la\n",
      "luz\n",
      "proced\n",
      "de\n",
      "unas\n",
      "frut\n",
      "esfer\n",
      "que\n",
      "llev\n",
      "el\n",
      "nombr\n",
      "de\n",
      "lamp\n",
      "hay\n",
      "dos\n",
      "en\n",
      "cad\n",
      "hexagon\n",
      "transversal\n",
      "la\n",
      "luz\n",
      "que\n",
      "emit\n",
      "es\n",
      "insuficient\n",
      "inces\n"
     ]
    }
   ],
   "source": [
    "import nltk.stem\n",
    "\n",
    "spanish_stemmer\t= nltk.stem.SnowballStemmer('spanish')\n",
    "\n",
    "class SpanishStemmedCountVectorizer(CountVectorizer):\n",
    "\n",
    "    def\tbuild_analyzer(self):\n",
    "        analyzer = super(SpanishStemmedCountVectorizer, self).build_analyzer()\n",
    "        return lambda doc: (spanish_stemmer.stem(w)\tfor\tw in analyzer(doc))\n",
    "\n",
    "stem_vectorizer = SpanishStemmedCountVectorizer(min_df=1)\n",
    "\n",
    "stem_analyze = stem_vectorizer.build_analyzer()\n",
    "\n",
    "text = '''\n",
    "El universo (que otros llaman la Biblioteca) se compone de un número indefinido, y\n",
    "tal vez infinito, de galerías hexagonales, con vastos pozos de ventilación en el medio,\n",
    "cercados por barandas bajísimas. Desde cualquier hexágono se ven los pisos inferiores y\n",
    "superiores: interminablemente. La distribución de las galerías es invariable. Veinte\n",
    "anaqueles, a cinco largos anaqueles por lado, cubren todos los lados menos dos; su altura,\n",
    "que es la de los pisos, excede apenas la de un bibliotecario normal. Una de las caras libres\n",
    "da a un angosto zaguán, que desemboca en otra galería, idéntica a la primera y a todas. A\n",
    "izquierda y a derecha del zaguán hay dos gabinetes minúsculos. Uno permite dormir de\n",
    "pie; otro, satisfacer las necesidades finales. Por ahí pasa la escalera espiral, que se abisma\n",
    "y se eleva hacia lo remoto. En el zaguán hay un espejo, que fielmente duplica las\n",
    "apariencias. Los hombres suelen inferir de ese espejo que la Biblioteca no es infinita (si\n",
    "lo fuera realmente ¿a qué esa duplicación ilusoria?); yo prefiero soñar que las superficies\n",
    "bruñidas figuran y prometen el infinito... La luz procede de unas frutas esféricas que\n",
    "llevan el nombre de lámparas. Hay dos en cada hexágono: transversales. La luz que\n",
    "emiten es insuficiente, incesante.\n",
    "'''\n",
    "\n",
    "Y = stem_analyze(text)\n",
    "\n",
    "for tok in Y:\n",
    "    print(tok)"
   ],
   "metadata": {
    "collapsed": false,
    "pycharm": {
     "name": "#%%\n"
    }
   }
  }
 ],
 "metadata": {
  "kernelspec": {
   "display_name": "Python 3",
   "language": "python",
   "name": "python3"
  },
  "language_info": {
   "codemirror_mode": {
    "name": "ipython",
    "version": 2
   },
   "file_extension": ".py",
   "mimetype": "text/x-python",
   "name": "python",
   "nbconvert_exporter": "python",
   "pygments_lexer": "ipython2",
   "version": "2.7.6"
  }
 },
 "nbformat": 4,
 "nbformat_minor": 0
}