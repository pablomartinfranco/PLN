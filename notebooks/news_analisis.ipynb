{
 "cells": [
  {
   "cell_type": "code",
   "execution_count": 31,
   "outputs": [],
   "source": [
    "from happytransformer import HappyTextClassification\n",
    "from pathlib import Path\n",
    "from newsapi import NewsApiClient\n",
    "import nltk\n",
    "from sentiment_analisys import get_digests_by_terms_async, classify_digests_async, Prediction\n",
    "import pandas as pd"
   ],
   "metadata": {
    "collapsed": false,
    "pycharm": {
     "name": "#%%\n"
    }
   }
  },
  {
   "cell_type": "code",
   "execution_count": 32,
   "outputs": [
    {
     "name": "stderr",
     "output_type": "stream",
     "text": [
      "07/01/2022 02:44:27 - INFO - happytransformer.happy_transformer -   Using model: cpu\n"
     ]
    }
   ],
   "source": [
    "nltk.data.path = [str(Path().resolve().parent.joinpath(\"nltk_data\"))]\n",
    "\n",
    "# nltk.download(\"punkt\", download_dir=\"./nltk_data\")\n",
    "\n",
    "# Init pass 9gPj8KZ8XJsLbcT\n",
    "api = NewsApiClient(api_key='98d763c2280d4820913c4abf3ff0270b')\n",
    "\n",
    "# classifier = HappyTextClassification(\n",
    "#     model_type=\"DISTILBERT\", num_labels=2,\n",
    "#     model_name=\"distilbert-base-uncased-finetuned-sst-2-english\")\n",
    "\n",
    "classifier = HappyTextClassification(\n",
    "    model_type=\"BERT\", num_labels=3,\n",
    "    model_name=\"ProsusAI/finbert\")"
   ],
   "metadata": {
    "collapsed": false,
    "pycharm": {
     "name": "#%%\n"
    }
   }
  },
  {
   "cell_type": "code",
   "execution_count": 33,
   "outputs": [],
   "source": [
    "# [source[\"id\"] for source in api.get_sources()[\"sources\"]]"
   ],
   "metadata": {
    "collapsed": false,
    "pycharm": {
     "name": "#%%\n"
    }
   }
  },
  {
   "cell_type": "code",
   "execution_count": 34,
   "outputs": [],
   "source": [
    "\n",
    "# sources = \"business-insider,crypto-coins-news,financial-post,fortune,google-news,info-money,hacker-news,reddit-r-all,Bloomberg\"\n",
    "sources = \"business-insider,crypto-coins-news,financial-post,fortune,google-news,info-money,hacker-news,reddit-r-all\"\n",
    "\n",
    "terms = \"bitcoin,ethereum\"\n",
    "\n",
    "digests_by_term = await get_digests_by_terms_async(terms, sources, api)\n",
    "\n",
    "predictions: [Prediction] = [\n",
    "    Prediction(\n",
    "        results=await classify_digests_async(digests, classifier),\n",
    "        term=term\n",
    "    ) for term, digests in digests_by_term\n",
    "]\n",
    "\n",
    "# [digest.summary for digest in predictions[0][\"digests\"]]\n",
    "\n",
    "# [prediction for prediction in predictions]"
   ],
   "metadata": {
    "collapsed": false,
    "pycharm": {
     "name": "#%%\n"
    }
   }
  },
  {
   "cell_type": "code",
   "execution_count": 35,
   "outputs": [
    {
     "data": {
      "text/plain": "        term     label     score  \\\n0    bitcoin   neutral  0.822494   \n1    bitcoin  negative  0.932085   \n2    bitcoin  negative  0.943330   \n3    bitcoin   neutral  0.863474   \n4    bitcoin  negative  0.968226   \n5    bitcoin  negative  0.942878   \n6    bitcoin  negative  0.964660   \n7    bitcoin  negative  0.974385   \n8    bitcoin  negative  0.972909   \n9    bitcoin   neutral  0.863474   \n10   bitcoin   neutral  0.770838   \n11  ethereum   neutral  0.863474   \n12  ethereum  negative  0.964660   \n\n                                               source  \n0   https://markets.businessinsider.com/news/curre...  \n1   https://www.businessinsider.com/bitcoin-price-...  \n2   https://markets.businessinsider.com/news/curre...  \n3   https://fortune.com/2022/06/30/blockchain-indi...  \n4   https://markets.businessinsider.com/news/stock...  \n5   https://markets.businessinsider.com/news/curre...  \n6   https://markets.businessinsider.com/news/curre...  \n7   https://markets.businessinsider.com/news/stock...  \n8   https://markets.businessinsider.com/news/stock...  \n9   https://fortune.com/2022/06/30/grayscale-bitco...  \n10  https://www.businessinsider.com/opening-bell-a...  \n11  https://fortune.com/2022/06/30/ethereum-gray-g...  \n12  https://markets.businessinsider.com/news/curre...  ",
      "text/html": "<div>\n<style scoped>\n    .dataframe tbody tr th:only-of-type {\n        vertical-align: middle;\n    }\n\n    .dataframe tbody tr th {\n        vertical-align: top;\n    }\n\n    .dataframe thead th {\n        text-align: right;\n    }\n</style>\n<table border=\"1\" class=\"dataframe\">\n  <thead>\n    <tr style=\"text-align: right;\">\n      <th></th>\n      <th>term</th>\n      <th>label</th>\n      <th>score</th>\n      <th>source</th>\n    </tr>\n  </thead>\n  <tbody>\n    <tr>\n      <th>0</th>\n      <td>bitcoin</td>\n      <td>neutral</td>\n      <td>0.822494</td>\n      <td>https://markets.businessinsider.com/news/curre...</td>\n    </tr>\n    <tr>\n      <th>1</th>\n      <td>bitcoin</td>\n      <td>negative</td>\n      <td>0.932085</td>\n      <td>https://www.businessinsider.com/bitcoin-price-...</td>\n    </tr>\n    <tr>\n      <th>2</th>\n      <td>bitcoin</td>\n      <td>negative</td>\n      <td>0.943330</td>\n      <td>https://markets.businessinsider.com/news/curre...</td>\n    </tr>\n    <tr>\n      <th>3</th>\n      <td>bitcoin</td>\n      <td>neutral</td>\n      <td>0.863474</td>\n      <td>https://fortune.com/2022/06/30/blockchain-indi...</td>\n    </tr>\n    <tr>\n      <th>4</th>\n      <td>bitcoin</td>\n      <td>negative</td>\n      <td>0.968226</td>\n      <td>https://markets.businessinsider.com/news/stock...</td>\n    </tr>\n    <tr>\n      <th>5</th>\n      <td>bitcoin</td>\n      <td>negative</td>\n      <td>0.942878</td>\n      <td>https://markets.businessinsider.com/news/curre...</td>\n    </tr>\n    <tr>\n      <th>6</th>\n      <td>bitcoin</td>\n      <td>negative</td>\n      <td>0.964660</td>\n      <td>https://markets.businessinsider.com/news/curre...</td>\n    </tr>\n    <tr>\n      <th>7</th>\n      <td>bitcoin</td>\n      <td>negative</td>\n      <td>0.974385</td>\n      <td>https://markets.businessinsider.com/news/stock...</td>\n    </tr>\n    <tr>\n      <th>8</th>\n      <td>bitcoin</td>\n      <td>negative</td>\n      <td>0.972909</td>\n      <td>https://markets.businessinsider.com/news/stock...</td>\n    </tr>\n    <tr>\n      <th>9</th>\n      <td>bitcoin</td>\n      <td>neutral</td>\n      <td>0.863474</td>\n      <td>https://fortune.com/2022/06/30/grayscale-bitco...</td>\n    </tr>\n    <tr>\n      <th>10</th>\n      <td>bitcoin</td>\n      <td>neutral</td>\n      <td>0.770838</td>\n      <td>https://www.businessinsider.com/opening-bell-a...</td>\n    </tr>\n    <tr>\n      <th>11</th>\n      <td>ethereum</td>\n      <td>neutral</td>\n      <td>0.863474</td>\n      <td>https://fortune.com/2022/06/30/ethereum-gray-g...</td>\n    </tr>\n    <tr>\n      <th>12</th>\n      <td>ethereum</td>\n      <td>negative</td>\n      <td>0.964660</td>\n      <td>https://markets.businessinsider.com/news/curre...</td>\n    </tr>\n  </tbody>\n</table>\n</div>"
     },
     "execution_count": 35,
     "metadata": {},
     "output_type": "execute_result"
    }
   ],
   "source": [
    "df = pd.DataFrame(\n",
    "    {\n",
    "        'Fuente':   ['1', '2', '3'],\n",
    "        'Bitcoin':  ['Positivo','Negativo','Neutro'],\n",
    "        'Ethereum': ['Negativo','Negativo','Negativo']\n",
    "    }\n",
    ")\n",
    "\n",
    "values = [(prediction.term, classification.label, classification.score, digest.url)\n",
    "          for prediction in predictions\n",
    "          for (digest, classification) in prediction.results]\n",
    "\n",
    "df = pd.DataFrame(values, columns= ['term','label', 'score', 'source'])\n",
    "\n",
    "df"
   ],
   "metadata": {
    "collapsed": false,
    "pycharm": {
     "name": "#%%\n"
    }
   }
  },
  {
   "cell_type": "code",
   "execution_count": 36,
   "outputs": [
    {
     "name": "stdout",
     "output_type": "stream",
     "text": [
      "bitcoin: should not buy\n",
      "positive = 0.0\n",
      "negative = 0.6363636363636364\n",
      "neutral = 0.36363636363636365\n",
      "\n",
      "ethereum: should not buy\n",
      "positive = 0.0\n",
      "negative = 0.5\n",
      "neutral = 0.5\n",
      "\n"
     ]
    }
   ],
   "source": [
    "for prediction in predictions:\n",
    "    term = prediction.term\n",
    "    labels = {\"negative\": 0, \"positive\": 0, \"neutral\": 0}\n",
    "    results_count = len(prediction.results)\n",
    "    for digest, classification in prediction.results:\n",
    "        labels[classification.label] += 1\n",
    "        total = labels[\"positive\"] + labels[\"negative\"] + labels[\"neutral\"]\n",
    "        # print(f\"{term} = {classification.label}\")\n",
    "        if results_count == total:\n",
    "            positive_ratio = labels[\"positive\"] / total\n",
    "            negative_ratio = labels[\"negative\"] / total\n",
    "            neutral_ratio = labels[\"neutral\"] / total\n",
    "            should_buy = positive_ratio > negative_ratio and positive_ratio > neutral_ratio\n",
    "            print(f\"{term}: {'should not buy' if should_buy else 'should not buy'}\")\n",
    "            print(f\"positive = {positive_ratio}\")\n",
    "            print(f\"negative = {negative_ratio}\")\n",
    "            print(f\"neutral = {neutral_ratio}\")\n",
    "            print(\"\")\n"
   ],
   "metadata": {
    "collapsed": false,
    "pycharm": {
     "name": "#%%\n"
    }
   }
  }
 ],
 "metadata": {
  "kernelspec": {
   "display_name": "Python 3",
   "language": "python",
   "name": "python3"
  },
  "language_info": {
   "codemirror_mode": {
    "name": "ipython",
    "version": 2
   },
   "file_extension": ".py",
   "mimetype": "text/x-python",
   "name": "python",
   "nbconvert_exporter": "python",
   "pygments_lexer": "ipython2",
   "version": "2.7.6"
  }
 },
 "nbformat": 4,
 "nbformat_minor": 0
}