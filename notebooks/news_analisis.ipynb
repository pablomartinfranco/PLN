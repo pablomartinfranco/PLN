{
 "cells": [
  {
   "cell_type": "code",
   "execution_count": 5,
   "outputs": [
    {
     "name": "stderr",
     "output_type": "stream",
     "text": [
      "06/23/2022 00:51:55 - INFO - happytransformer.happy_transformer -   Using model: cpu\n"
     ]
    }
   ],
   "source": [
    "from happytransformer import HappyTextClassification\n",
    "from dataclasses import dataclass\n",
    "from typing import Callable\n",
    "from pathlib import Path\n",
    "from newsapi import NewsApiClient\n",
    "from datetime import date\n",
    "from newspaper import Article\n",
    "import nltk\n",
    "import asyncio\n",
    "\n",
    "nltk.data.path = [str(Path().resolve().parent.joinpath(\"nltk_data\"))]\n",
    "\n",
    "# nltk.download(\"punkt\", download_dir=\"./nltk_data\")\n",
    "\n",
    "@dataclass\n",
    "class Digest:\n",
    "    html: str\n",
    "    authors: str\n",
    "    publish_date: str\n",
    "    keywords: str\n",
    "    summary: str\n",
    "    title: str\n",
    "    text: str\n",
    "\n",
    "def process_article(article: Article) -> Callable:\n",
    "    def _process_article() -> Digest:\n",
    "        article.download()\n",
    "        article.parse()\n",
    "        article.nlp()\n",
    "        return Digest(\n",
    "            html=article.html,\n",
    "            authors=article.authors,\n",
    "            publish_date=article.publish_date,\n",
    "            keywords=article.keywords,\n",
    "            summary=article.summary,\n",
    "            title=article.title,\n",
    "            text=article.text,\n",
    "        )\n",
    "    return _process_article\n",
    "\n",
    "async def process_article_async(article: Article):\n",
    "    return asyncio.to_thread(process_article, article)\n",
    "\n",
    "async def get_digests_async(term: str, client: NewsApiClient,\n",
    "                      from_param=date.today(), language=\"en\"):\n",
    "\n",
    "    response = client.get_everything(term,\n",
    "                      # sources='bbc-news,the-verge,Bloomberg',\n",
    "                      # category='business',\n",
    "                      from_param=from_param,\n",
    "                      language=language)\n",
    "\n",
    "    return await asyncio.gather(\n",
    "        *[process_article_async(Article(article[\"url\"])) for article in response[\"articles\"]]\n",
    "    )\n",
    "\n",
    "async def get_all_digests_async(*terms: str, client: NewsApiClient):\n",
    "    return await asyncio.gather(\n",
    "        *[get_digests_async(term, client) for term in terms]\n",
    "    )\n",
    "\n",
    "# classifier = HappyTextClassification(\n",
    "#     model_type=\"DISTILBERT\", num_labels=2,\n",
    "#     model_name=\"distilbert-base-uncased-finetuned-sst-2-english\")\n",
    "\n",
    "classifier = HappyTextClassification(\n",
    "    model_type=\"BERT\", num_labels=3,\n",
    "    model_name=\"ProsusAI/finbert\")"
   ],
   "metadata": {
    "collapsed": false,
    "pycharm": {
     "name": "#%%\n"
    }
   }
  },
  {
   "cell_type": "code",
   "execution_count": 9,
   "outputs": [
    {
     "name": "stdout",
     "output_type": "stream",
     "text": [
      "Cantidad de articulos: 22\n"
     ]
    }
   ],
   "source": [
    "# Init pass 9gPj8KZ8XJsLbcT\n",
    "api = NewsApiClient(api_key='98d763c2280d4820913c4abf3ff0270b')\n",
    "\n",
    "# /v2/everything\n",
    "all_articles = api.get_everything(q='bitcoin',\n",
    "                                  # sources='bbc-news,the-verge,Bloomberg',\n",
    "                                  # category='business',\n",
    "                                  from_param=date.today(),\n",
    "                                  language='en')\n",
    "\n",
    "# /v2/top-headlines/sources\n",
    "# sources = api.get_sources()\n",
    "\n",
    "print(f\"Cantidad de articulos: {all_articles['totalResults']}\")"
   ],
   "metadata": {
    "collapsed": false,
    "pycharm": {
     "name": "#%%\n"
    }
   }
  },
  {
   "cell_type": "code",
   "execution_count": 13,
   "outputs": [
    {
     "data": {
      "text/plain": "TextClassificationResult(label='negative', score=0.9736753106117249)"
     },
     "execution_count": 13,
     "metadata": {},
     "output_type": "execute_result"
    }
   ],
   "source": [
    "articles = [{\"title\":article[\"title\"], \"url\":article[\"url\"]} for article in all_articles[\"articles\"]]\n",
    "\n",
    "article = Article(articles[1][\"url\"])\n",
    "\n",
    "digest: Digest = process_article(article)()\n",
    "\n",
    "result = classifier.classify_text(digest.summary)\n",
    "\n",
    "result"
   ],
   "metadata": {
    "collapsed": false,
    "pycharm": {
     "name": "#%%\n"
    }
   }
  },
  {
   "cell_type": "code",
   "execution_count": 14,
   "outputs": [
    {
     "data": {
      "text/plain": "'Bitcoin dropped below US$20,000 for the third time in a week on Thursday morning in Asia as news of record inflation in the U.K. and warnings of a recession hit crypto markets.\\nEthereum was down 6.52% to change hands at US$1,051 at press time, while all non-stablecoin tokens in the crypto top 10 were down.\\nThe crypto market cap is down more than 70% from its all-time high in November, as rising inflation rates and growing fears of recession have led to investors taking money out of risk assets.\\nBitcoin’s down trend is not pulling down the entire cryptocurrency market as it had been in recent days, with Polygon’s MATIC surging 14% and Uniswap’s UNI rising by 9%.\\nSee related article: Is Bitcoin really a hedge against inflation?'"
     },
     "execution_count": 14,
     "metadata": {},
     "output_type": "execute_result"
    }
   ],
   "source": [
    "digest.summary"
   ],
   "metadata": {
    "collapsed": false,
    "pycharm": {
     "name": "#%%\n"
    }
   }
  }
 ],
 "metadata": {
  "kernelspec": {
   "display_name": "Python 3",
   "language": "python",
   "name": "python3"
  },
  "language_info": {
   "codemirror_mode": {
    "name": "ipython",
    "version": 2
   },
   "file_extension": ".py",
   "mimetype": "text/x-python",
   "name": "python",
   "nbconvert_exporter": "python",
   "pygments_lexer": "ipython2",
   "version": "2.7.6"
  }
 },
 "nbformat": 4,
 "nbformat_minor": 0
}