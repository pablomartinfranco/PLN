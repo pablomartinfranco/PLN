{
 "cells": [
  {
   "cell_type": "code",
   "execution_count": 5,
   "outputs": [],
   "source": [
    "import nltk\n",
    "import pandas as pd\n",
    "from happytransformer import HappyTextClassification\n",
    "from pathlib import Path\n",
    "from newsapi import NewsApiClient\n",
    "from sentiment_analisys import get_digests_by_terms_async, classify_digests_async, Prediction"
   ],
   "metadata": {
    "collapsed": false,
    "pycharm": {
     "name": "#%%\n"
    }
   }
  },
  {
   "cell_type": "code",
   "execution_count": 6,
   "outputs": [
    {
     "name": "stderr",
     "output_type": "stream",
     "text": [
      "07/08/2022 18:45:14 - INFO - happytransformer.happy_transformer -   Using model: cpu\n"
     ]
    }
   ],
   "source": [
    "nltk.data.path = [str(Path().resolve().parent.joinpath(\"nltk_data\"))]\n",
    "\n",
    "# nltk.download(\"punkt\", download_dir=\"./nltk_data\")\n",
    "\n",
    "# Init pass 9gPj8KZ8XJsLbcT\n",
    "api = NewsApiClient(api_key='98d763c2280d4820913c4abf3ff0270b')\n",
    "\n",
    "# classifier = HappyTextClassification(\n",
    "#     model_type=\"DISTILBERT\", num_labels=2,\n",
    "#     model_name=\"distilbert-base-uncased-finetuned-sst-2-english\")\n",
    "\n",
    "classifier = HappyTextClassification(\n",
    "    model_type=\"BERT\", num_labels=3,\n",
    "    model_name=\"ProsusAI/finbert\")"
   ],
   "metadata": {
    "collapsed": false,
    "pycharm": {
     "name": "#%%\n"
    }
   }
  },
  {
   "cell_type": "code",
   "execution_count": 7,
   "outputs": [],
   "source": [
    "# [source[\"id\"] for source in api.get_sources()[\"sources\"]]"
   ],
   "metadata": {
    "collapsed": false,
    "pycharm": {
     "name": "#%%\n"
    }
   }
  },
  {
   "cell_type": "code",
   "execution_count": 8,
   "outputs": [],
   "source": [
    "\n",
    "# sources = \"business-insider,crypto-coins-news,financial-post,fortune,google-news,info-money,hacker-news,reddit-r-all,Bloomberg\"\n",
    "sources = \"business-insider,crypto-coins-news,financial-post,fortune,google-news,info-money,hacker-news,reddit-r-all\"\n",
    "\n",
    "terms = \"bitcoin,ethereum\"\n",
    "\n",
    "digests_by_term = await get_digests_by_terms_async(terms, sources, api)\n",
    "\n",
    "predictions: [Prediction] = [\n",
    "    Prediction(\n",
    "        results=await classify_digests_async(digests, classifier),\n",
    "        term=term\n",
    "    ) for term, digests in digests_by_term\n",
    "]\n",
    "\n",
    "# [digest.summary for digest in predictions[0][\"digests\"]]\n",
    "\n",
    "# [prediction for prediction in predictions]"
   ],
   "metadata": {
    "collapsed": false,
    "pycharm": {
     "name": "#%%\n"
    }
   }
  },
  {
   "cell_type": "code",
   "execution_count": 11,
   "outputs": [
    {
     "ename": "KeyboardInterrupt",
     "evalue": "",
     "output_type": "error",
     "traceback": [
      "\u001B[1;31m---------------------------------------------------------------------------\u001B[0m",
      "\u001B[1;31mKeyboardInterrupt\u001B[0m                         Traceback (most recent call last)",
      "Input \u001B[1;32mIn [11]\u001B[0m, in \u001B[0;36m<cell line: 1>\u001B[1;34m()\u001B[0m\n\u001B[1;32m----> 1\u001B[0m values \u001B[38;5;241m=\u001B[39m [(prediction\u001B[38;5;241m.\u001B[39mterm, classification\u001B[38;5;241m.\u001B[39mlabel, classification\u001B[38;5;241m.\u001B[39mscore, digest\u001B[38;5;241m.\u001B[39murl)\n\u001B[0;32m      2\u001B[0m           \u001B[38;5;28;01mfor\u001B[39;00m prediction \u001B[38;5;129;01min\u001B[39;00m predictions\n\u001B[0;32m      3\u001B[0m           \u001B[38;5;28;01mfor\u001B[39;00m (digest, classification) \u001B[38;5;129;01min\u001B[39;00m prediction\u001B[38;5;241m.\u001B[39mresults]\n\u001B[0;32m      5\u001B[0m df \u001B[38;5;241m=\u001B[39m pd\u001B[38;5;241m.\u001B[39mDataFrame(values, columns\u001B[38;5;241m=\u001B[39m [\u001B[38;5;124m'\u001B[39m\u001B[38;5;124mterm\u001B[39m\u001B[38;5;124m'\u001B[39m,\u001B[38;5;124m'\u001B[39m\u001B[38;5;124mlabel\u001B[39m\u001B[38;5;124m'\u001B[39m, \u001B[38;5;124m'\u001B[39m\u001B[38;5;124mscore\u001B[39m\u001B[38;5;124m'\u001B[39m, \u001B[38;5;124m'\u001B[39m\u001B[38;5;124msource\u001B[39m\u001B[38;5;124m'\u001B[39m])\n\u001B[0;32m      7\u001B[0m df\n",
      "Input \u001B[1;32mIn [11]\u001B[0m, in \u001B[0;36m<cell line: 1>\u001B[1;34m()\u001B[0m\n\u001B[1;32m----> 1\u001B[0m values \u001B[38;5;241m=\u001B[39m [(prediction\u001B[38;5;241m.\u001B[39mterm, classification\u001B[38;5;241m.\u001B[39mlabel, classification\u001B[38;5;241m.\u001B[39mscore, digest\u001B[38;5;241m.\u001B[39murl)\n\u001B[0;32m      2\u001B[0m           \u001B[38;5;28;01mfor\u001B[39;00m prediction \u001B[38;5;129;01min\u001B[39;00m predictions\n\u001B[0;32m      3\u001B[0m           \u001B[38;5;28;01mfor\u001B[39;00m (digest, classification) \u001B[38;5;129;01min\u001B[39;00m prediction\u001B[38;5;241m.\u001B[39mresults]\n\u001B[0;32m      5\u001B[0m df \u001B[38;5;241m=\u001B[39m pd\u001B[38;5;241m.\u001B[39mDataFrame(values, columns\u001B[38;5;241m=\u001B[39m [\u001B[38;5;124m'\u001B[39m\u001B[38;5;124mterm\u001B[39m\u001B[38;5;124m'\u001B[39m,\u001B[38;5;124m'\u001B[39m\u001B[38;5;124mlabel\u001B[39m\u001B[38;5;124m'\u001B[39m, \u001B[38;5;124m'\u001B[39m\u001B[38;5;124mscore\u001B[39m\u001B[38;5;124m'\u001B[39m, \u001B[38;5;124m'\u001B[39m\u001B[38;5;124msource\u001B[39m\u001B[38;5;124m'\u001B[39m])\n\u001B[0;32m      7\u001B[0m df\n",
      "File \u001B[1;32m_pydevd_bundle\\pydevd_cython_win32_310_64.pyx:1179\u001B[0m, in \u001B[0;36m_pydevd_bundle.pydevd_cython_win32_310_64.SafeCallWrapper.__call__\u001B[1;34m()\u001B[0m\n",
      "File \u001B[1;32m_pydevd_bundle\\pydevd_cython_win32_310_64.pyx:620\u001B[0m, in \u001B[0;36m_pydevd_bundle.pydevd_cython_win32_310_64.PyDBFrame.trace_dispatch\u001B[1;34m()\u001B[0m\n",
      "File \u001B[1;32m_pydevd_bundle\\pydevd_cython_win32_310_64.pyx:929\u001B[0m, in \u001B[0;36m_pydevd_bundle.pydevd_cython_win32_310_64.PyDBFrame.trace_dispatch\u001B[1;34m()\u001B[0m\n",
      "File \u001B[1;32m_pydevd_bundle\\pydevd_cython_win32_310_64.pyx:920\u001B[0m, in \u001B[0;36m_pydevd_bundle.pydevd_cython_win32_310_64.PyDBFrame.trace_dispatch\u001B[1;34m()\u001B[0m\n",
      "File \u001B[1;32m_pydevd_bundle\\pydevd_cython_win32_310_64.pyx:317\u001B[0m, in \u001B[0;36m_pydevd_bundle.pydevd_cython_win32_310_64.PyDBFrame.do_wait_suspend\u001B[1;34m()\u001B[0m\n",
      "File \u001B[1;32m~\\AppData\\Local\\JetBrains\\Toolbox\\apps\\PyCharm-P\\ch-0\\221.5787.24\\plugins\\python\\helpers\\pydev\\pydevd.py:1155\u001B[0m, in \u001B[0;36mPyDB.do_wait_suspend\u001B[1;34m(self, thread, frame, event, arg, send_suspend_message, is_unhandled_exception)\u001B[0m\n\u001B[0;32m   1152\u001B[0m         from_this_thread\u001B[38;5;241m.\u001B[39mappend(frame_id)\n\u001B[0;32m   1154\u001B[0m \u001B[38;5;28;01mwith\u001B[39;00m \u001B[38;5;28mself\u001B[39m\u001B[38;5;241m.\u001B[39m_threads_suspended_single_notification\u001B[38;5;241m.\u001B[39mnotify_thread_suspended(thread_id, stop_reason):\n\u001B[1;32m-> 1155\u001B[0m     \u001B[38;5;28;43mself\u001B[39;49m\u001B[38;5;241;43m.\u001B[39;49m\u001B[43m_do_wait_suspend\u001B[49m\u001B[43m(\u001B[49m\u001B[43mthread\u001B[49m\u001B[43m,\u001B[49m\u001B[43m \u001B[49m\u001B[43mframe\u001B[49m\u001B[43m,\u001B[49m\u001B[43m \u001B[49m\u001B[43mevent\u001B[49m\u001B[43m,\u001B[49m\u001B[43m \u001B[49m\u001B[43marg\u001B[49m\u001B[43m,\u001B[49m\u001B[43m \u001B[49m\u001B[43msuspend_type\u001B[49m\u001B[43m,\u001B[49m\u001B[43m \u001B[49m\u001B[43mfrom_this_thread\u001B[49m\u001B[43m)\u001B[49m\n",
      "File \u001B[1;32m~\\AppData\\Local\\JetBrains\\Toolbox\\apps\\PyCharm-P\\ch-0\\221.5787.24\\plugins\\python\\helpers\\pydev\\pydevd.py:1170\u001B[0m, in \u001B[0;36mPyDB._do_wait_suspend\u001B[1;34m(self, thread, frame, event, arg, suspend_type, from_this_thread)\u001B[0m\n\u001B[0;32m   1167\u001B[0m             \u001B[38;5;28mself\u001B[39m\u001B[38;5;241m.\u001B[39m_call_mpl_hook()\n\u001B[0;32m   1169\u001B[0m         \u001B[38;5;28mself\u001B[39m\u001B[38;5;241m.\u001B[39mprocess_internal_commands()\n\u001B[1;32m-> 1170\u001B[0m         \u001B[43mtime\u001B[49m\u001B[38;5;241;43m.\u001B[39;49m\u001B[43msleep\u001B[49m\u001B[43m(\u001B[49m\u001B[38;5;241;43m0.01\u001B[39;49m\u001B[43m)\u001B[49m\n\u001B[0;32m   1172\u001B[0m \u001B[38;5;28mself\u001B[39m\u001B[38;5;241m.\u001B[39mcancel_async_evaluation(get_current_thread_id(thread), \u001B[38;5;28mstr\u001B[39m(\u001B[38;5;28mid\u001B[39m(frame)))\n\u001B[0;32m   1174\u001B[0m \u001B[38;5;66;03m# process any stepping instructions\u001B[39;00m\n",
      "\u001B[1;31mKeyboardInterrupt\u001B[0m: "
     ]
    }
   ],
   "source": [
    "values = [(prediction.term, classification.label, classification.score, digest.url)\n",
    "          for prediction in predictions\n",
    "          for (digest, classification) in prediction.results]\n",
    "\n",
    "df = pd.DataFrame(values, columns= ['term','label', 'score', 'source'])\n",
    "\n",
    "df"
   ],
   "metadata": {
    "collapsed": false,
    "pycharm": {
     "name": "#%%\n"
    }
   }
  },
  {
   "cell_type": "code",
   "execution_count": 10,
   "outputs": [
    {
     "name": "stdout",
     "output_type": "stream",
     "text": [
      "bitcoin: should not buy\n",
      "positive = 0.3333333333333333\n",
      "negative = 0.3333333333333333\n",
      "neutral = 0.3333333333333333\n",
      "\n",
      "ethereum: should not buy\n",
      "positive = 0.16666666666666666\n",
      "negative = 0.3333333333333333\n",
      "neutral = 0.5\n",
      "\n"
     ]
    }
   ],
   "source": [
    "for prediction in predictions:\n",
    "    term = prediction.term\n",
    "    labels = {\"negative\": 0, \"positive\": 0, \"neutral\": 0}\n",
    "    results_count = len(prediction.results)\n",
    "    for digest, classification in prediction.results:\n",
    "        labels[classification.label] += 1\n",
    "        total = labels[\"positive\"] + labels[\"negative\"] + labels[\"neutral\"]\n",
    "        # print(f\"{term} = {classification.label}\")\n",
    "        if results_count == total:\n",
    "            positive_ratio = labels[\"positive\"] / total\n",
    "            negative_ratio = labels[\"negative\"] / total\n",
    "            neutral_ratio = labels[\"neutral\"] / total\n",
    "            should_buy = positive_ratio > negative_ratio and positive_ratio > 0\n",
    "            print(f\"{term}: {'should buy' if should_buy else 'should not buy'}\")\n",
    "            print(f\"positive = {positive_ratio}\")\n",
    "            print(f\"negative = {negative_ratio}\")\n",
    "            print(f\"neutral = {neutral_ratio}\")\n",
    "            print(\"\")\n"
   ],
   "metadata": {
    "collapsed": false,
    "pycharm": {
     "name": "#%%\n"
    }
   }
  }
 ],
 "metadata": {
  "kernelspec": {
   "display_name": "Python 3",
   "language": "python",
   "name": "python3"
  },
  "language_info": {
   "codemirror_mode": {
    "name": "ipython",
    "version": 2
   },
   "file_extension": ".py",
   "mimetype": "text/x-python",
   "name": "python",
   "nbconvert_exporter": "python",
   "pygments_lexer": "ipython2",
   "version": "2.7.6"
  }
 },
 "nbformat": 4,
 "nbformat_minor": 0
}