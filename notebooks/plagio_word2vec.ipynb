{
 "cells": [
  {
   "cell_type": "code",
   "execution_count": 1,
   "outputs": [],
   "source": [
    "import spacy\n",
    "from itertools import product\n",
    "import matplotlib.pyplot as plt\n",
    "import pandas as pd\n",
    "import seaborn as sns\n",
    "\n",
    "nlp = spacy.load('de_core_news_sm')\n",
    "\n",
    "def read_data(data_dir):\n",
    "    data = []\n",
    "    with open(data_dir) as tsvin:\n",
    "        tsvin = csv.reader(tsvin, delimiter='\\t')\n",
    "        for row in tsvin:\n",
    "            print(row)\n",
    "            assert len(row)==3\n",
    "            data.append((row[0], row[1], row[2]))\n",
    "    return data\n",
    "\n",
    "def get_sim_count(sentences1, sentences2):\n",
    "    sim_counter = 0\n",
    "    for sen1, sen2 in product(sentences1, sentences2):\n",
    "        sim = sen1.similarity(sen2)\n",
    "        if sim > 0.9:\n",
    "            sim_counter = sim_counter + 1\n",
    "    return sim_counter\n",
    "\n",
    "def is_plag(text1, text2):\n",
    "    sentences1 = (nlp(text1)).sents\n",
    "    s1copy = (nlp(text1)).sents\n",
    "    sentences2 = (nlp(text2)).sents\n",
    "    sim_count = get_sim_count(sentences1, sentences2)\n",
    "    number_sentences_in_text1 = sum(1 for _ in s1copy)\n",
    "    if (number_sentences_in_text1 * 0.8) <= sim_count:\n",
    "        return 'True, number of sentences in text1 : ' + str(number_sentences_in_text1), 'similarity count: ' + str(sim_count)\n",
    "    else:\n",
    "        return 'False, number of sentences in text1 : ' + str(number_sentences_in_text1), 'similarity count: ' + str(sim_count)\n",
    "\n",
    "data = read_data('train_plag_data.txt')\n",
    "\n",
    "count = 0\n",
    "plags = []\n",
    "no_plags = []\n",
    "for i in range(data.__len__()):\n",
    "    count = count+1\n",
    "    triple = data.pop(0)\n",
    "    kind = int(triple.__getitem__(0))\n",
    "    is_a_plag = is_plag(triple.__getitem__(1), triple.__getitem__(2))\n",
    "    if kind == 1:\n",
    "        plags.append(('article pair: ' + str(count), 'is_a_plag: ' + str(is_a_plag)))\n",
    "    else:\n",
    "        if kind == 0:\n",
    "            no_plags.append(('article pair: ' + str(count), 'is_a_plag: ' + str(is_a_plag)))\n",
    "\n",
    "    #compare_sentences(triple.__getitem__(1), triple.__getitem__(2))\n",
    "\n",
    "\n",
    "print('Plagiarisms are: ')\n",
    "print(plags)\n",
    "\n",
    "print('Not a Plagiarism is: ')\n",
    "print(no_plags)\n",
    "\n",
    "''' Not a Plagiarism = 0 '''\n",
    "''' Not a Plagiarism = 1 '''"
   ],
   "metadata": {
    "collapsed": false,
    "pycharm": {
     "name": "#%%\n"
    }
   }
  }
 ],
 "metadata": {
  "kernelspec": {
   "display_name": "Python 3",
   "language": "python",
   "name": "python3"
  },
  "language_info": {
   "codemirror_mode": {
    "name": "ipython",
    "version": 2
   },
   "file_extension": ".py",
   "mimetype": "text/x-python",
   "name": "python",
   "nbconvert_exporter": "python",
   "pygments_lexer": "ipython2",
   "version": "2.7.6"
  }
 },
 "nbformat": 4,
 "nbformat_minor": 0
}