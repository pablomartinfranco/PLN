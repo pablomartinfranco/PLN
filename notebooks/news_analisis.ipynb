{
 "cells": [
  {
   "cell_type": "code",
   "execution_count": 18,
   "outputs": [],
   "source": [
    "import nltk\n",
    "import pandas as pd\n",
    "from happytransformer import HappyTextClassification\n",
    "from pathlib import Path\n",
    "from newsapi import NewsApiClient\n",
    "from sentiment_analisys import get_digests_by_terms_async, classify_digests_async, Prediction"
   ],
   "metadata": {
    "collapsed": false,
    "pycharm": {
     "name": "#%%\n"
    }
   }
  },
  {
   "cell_type": "code",
   "execution_count": 19,
   "outputs": [
    {
     "name": "stderr",
     "output_type": "stream",
     "text": [
      "07/08/2022 19:00:42 - INFO - happytransformer.happy_transformer -   Using model: cpu\n"
     ]
    }
   ],
   "source": [
    "nltk.data.path = [str(Path().resolve().parent.joinpath(\"nltk_data\"))]\n",
    "\n",
    "# nltk.download(\"punkt\", download_dir=\"./nltk_data\")\n",
    "\n",
    "# Init pass 9gPj8KZ8XJsLbcT\n",
    "api = NewsApiClient(api_key='98d763c2280d4820913c4abf3ff0270b')\n",
    "\n",
    "# classifier = HappyTextClassification(\n",
    "#     model_type=\"DISTILBERT\", num_labels=2,\n",
    "#     model_name=\"distilbert-base-uncased-finetuned-sst-2-english\")\n",
    "\n",
    "classifier = HappyTextClassification(\n",
    "    model_type=\"BERT\", num_labels=3,\n",
    "    model_name=\"ProsusAI/finbert\")"
   ],
   "metadata": {
    "collapsed": false,
    "pycharm": {
     "name": "#%%\n"
    }
   }
  },
  {
   "cell_type": "code",
   "execution_count": 20,
   "outputs": [],
   "source": [
    "# [source[\"id\"] for source in api.get_sources()[\"sources\"]]"
   ],
   "metadata": {
    "collapsed": false,
    "pycharm": {
     "name": "#%%\n"
    }
   }
  },
  {
   "cell_type": "code",
   "execution_count": 21,
   "outputs": [],
   "source": [
    "\n",
    "# sources = \"business-insider,crypto-coins-news,financial-post,fortune,google-news,info-money,hacker-news,reddit-r-all,Bloomberg\"\n",
    "sources = \"business-insider,crypto-coins-news,financial-post,fortune,google-news,info-money,hacker-news,reddit-r-all\"\n",
    "\n",
    "terms = \"bitcoin,ethereum\"\n",
    "\n",
    "digests_by_term = await get_digests_by_terms_async(terms, sources, api)\n",
    "\n",
    "predictions: [Prediction] = [\n",
    "    Prediction(\n",
    "        results=await classify_digests_async(digests, classifier),\n",
    "        term=term\n",
    "    ) for term, digests in digests_by_term\n",
    "]\n",
    "\n",
    "# [digest.summary for digest in predictions[0][\"digests\"]]\n",
    "\n",
    "# [prediction for prediction in predictions]"
   ],
   "metadata": {
    "collapsed": false,
    "pycharm": {
     "name": "#%%\n"
    }
   }
  },
  {
   "cell_type": "code",
   "execution_count": 22,
   "outputs": [
    {
     "data": {
      "text/plain": "        term     label     score  \\\n0    bitcoin  positive  0.938478   \n1    bitcoin  negative  0.974057   \n2    bitcoin  negative  0.969956   \n3    bitcoin   neutral  0.925612   \n4    bitcoin   neutral  0.939332   \n5    bitcoin   neutral  0.838379   \n6    bitcoin  negative  0.953572   \n7    bitcoin  positive  0.685404   \n8    bitcoin  positive  0.910843   \n9   ethereum  negative  0.733033   \n10  ethereum   neutral  0.925612   \n11  ethereum   neutral  0.939332   \n12  ethereum   neutral  0.919572   \n13  ethereum  positive  0.685404   \n14  ethereum  negative  0.551756   \n\n                                               source  \n0   https://markets.businessinsider.com/news/stock...  \n1   https://markets.businessinsider.com/news/stock...  \n2   https://markets.businessinsider.com/news/stock...  \n3   https://www.businessinsider.com/personal-finan...  \n4   https://www.businessinsider.com/personal-finan...  \n5   https://www.businessinsider.com/paxos-blockcha...  \n6   https://markets.businessinsider.com/news/curre...  \n7   https://markets.businessinsider.com/news/stock...  \n8   https://markets.businessinsider.com/news/stock...  \n9   https://www.businessinsider.com/elon-musk-twin...  \n10  https://www.businessinsider.com/personal-finan...  \n11  https://www.businessinsider.com/personal-finan...  \n12  https://www.businessinsider.com/personal-finan...  \n13  https://markets.businessinsider.com/news/stock...  \n14  https://www.businessinsider.com/axie-infinity-...  ",
      "text/html": "<div>\n<style scoped>\n    .dataframe tbody tr th:only-of-type {\n        vertical-align: middle;\n    }\n\n    .dataframe tbody tr th {\n        vertical-align: top;\n    }\n\n    .dataframe thead th {\n        text-align: right;\n    }\n</style>\n<table border=\"1\" class=\"dataframe\">\n  <thead>\n    <tr style=\"text-align: right;\">\n      <th></th>\n      <th>term</th>\n      <th>label</th>\n      <th>score</th>\n      <th>source</th>\n    </tr>\n  </thead>\n  <tbody>\n    <tr>\n      <th>0</th>\n      <td>bitcoin</td>\n      <td>positive</td>\n      <td>0.938478</td>\n      <td>https://markets.businessinsider.com/news/stock...</td>\n    </tr>\n    <tr>\n      <th>1</th>\n      <td>bitcoin</td>\n      <td>negative</td>\n      <td>0.974057</td>\n      <td>https://markets.businessinsider.com/news/stock...</td>\n    </tr>\n    <tr>\n      <th>2</th>\n      <td>bitcoin</td>\n      <td>negative</td>\n      <td>0.969956</td>\n      <td>https://markets.businessinsider.com/news/stock...</td>\n    </tr>\n    <tr>\n      <th>3</th>\n      <td>bitcoin</td>\n      <td>neutral</td>\n      <td>0.925612</td>\n      <td>https://www.businessinsider.com/personal-finan...</td>\n    </tr>\n    <tr>\n      <th>4</th>\n      <td>bitcoin</td>\n      <td>neutral</td>\n      <td>0.939332</td>\n      <td>https://www.businessinsider.com/personal-finan...</td>\n    </tr>\n    <tr>\n      <th>5</th>\n      <td>bitcoin</td>\n      <td>neutral</td>\n      <td>0.838379</td>\n      <td>https://www.businessinsider.com/paxos-blockcha...</td>\n    </tr>\n    <tr>\n      <th>6</th>\n      <td>bitcoin</td>\n      <td>negative</td>\n      <td>0.953572</td>\n      <td>https://markets.businessinsider.com/news/curre...</td>\n    </tr>\n    <tr>\n      <th>7</th>\n      <td>bitcoin</td>\n      <td>positive</td>\n      <td>0.685404</td>\n      <td>https://markets.businessinsider.com/news/stock...</td>\n    </tr>\n    <tr>\n      <th>8</th>\n      <td>bitcoin</td>\n      <td>positive</td>\n      <td>0.910843</td>\n      <td>https://markets.businessinsider.com/news/stock...</td>\n    </tr>\n    <tr>\n      <th>9</th>\n      <td>ethereum</td>\n      <td>negative</td>\n      <td>0.733033</td>\n      <td>https://www.businessinsider.com/elon-musk-twin...</td>\n    </tr>\n    <tr>\n      <th>10</th>\n      <td>ethereum</td>\n      <td>neutral</td>\n      <td>0.925612</td>\n      <td>https://www.businessinsider.com/personal-finan...</td>\n    </tr>\n    <tr>\n      <th>11</th>\n      <td>ethereum</td>\n      <td>neutral</td>\n      <td>0.939332</td>\n      <td>https://www.businessinsider.com/personal-finan...</td>\n    </tr>\n    <tr>\n      <th>12</th>\n      <td>ethereum</td>\n      <td>neutral</td>\n      <td>0.919572</td>\n      <td>https://www.businessinsider.com/personal-finan...</td>\n    </tr>\n    <tr>\n      <th>13</th>\n      <td>ethereum</td>\n      <td>positive</td>\n      <td>0.685404</td>\n      <td>https://markets.businessinsider.com/news/stock...</td>\n    </tr>\n    <tr>\n      <th>14</th>\n      <td>ethereum</td>\n      <td>negative</td>\n      <td>0.551756</td>\n      <td>https://www.businessinsider.com/axie-infinity-...</td>\n    </tr>\n  </tbody>\n</table>\n</div>"
     },
     "execution_count": 22,
     "metadata": {},
     "output_type": "execute_result"
    }
   ],
   "source": [
    "values = [(prediction.term, classification.label, classification.score, digest.url)\n",
    "          for prediction in predictions\n",
    "          for (digest, classification) in prediction.results]\n",
    "\n",
    "df = pd.DataFrame(values, columns= ['term','label', 'score', 'source'])\n",
    "\n",
    "df"
   ],
   "metadata": {
    "collapsed": false,
    "pycharm": {
     "name": "#%%\n"
    }
   }
  },
  {
   "cell_type": "code",
   "execution_count": 23,
   "outputs": [
    {
     "name": "stdout",
     "output_type": "stream",
     "text": [
      "bitcoin: should not buy\n",
      "positive = 0.3333333333333333\n",
      "negative = 0.3333333333333333\n",
      "neutral = 0.3333333333333333\n",
      "\n",
      "ethereum: should not buy\n",
      "positive = 0.16666666666666666\n",
      "negative = 0.3333333333333333\n",
      "neutral = 0.5\n",
      "\n"
     ]
    }
   ],
   "source": [
    "for prediction in predictions:\n",
    "    term = prediction.term\n",
    "    labels = {\"negative\": 0, \"positive\": 0, \"neutral\": 0}\n",
    "    results_count = len(prediction.results)\n",
    "    for digest, classification in prediction.results:\n",
    "        labels[classification.label] += 1\n",
    "        total = labels[\"positive\"] + labels[\"negative\"] + labels[\"neutral\"]\n",
    "        # print(f\"{term} = {classification.label}\")\n",
    "        if results_count == total:\n",
    "            positive_ratio = labels[\"positive\"] / total\n",
    "            negative_ratio = labels[\"negative\"] / total\n",
    "            neutral_ratio = labels[\"neutral\"] / total\n",
    "            should_buy = positive_ratio > negative_ratio and positive_ratio > 0\n",
    "            print(f\"{term}: {'should buy' if should_buy else 'should not buy'}\")\n",
    "            print(f\"positive = {positive_ratio}\")\n",
    "            print(f\"negative = {negative_ratio}\")\n",
    "            print(f\"neutral = {neutral_ratio}\")\n",
    "            print(\"\")\n"
   ],
   "metadata": {
    "collapsed": false,
    "pycharm": {
     "name": "#%%\n"
    }
   }
  }
 ],
 "metadata": {
  "kernelspec": {
   "display_name": "Python 3",
   "language": "python",
   "name": "python3"
  },
  "language_info": {
   "codemirror_mode": {
    "name": "ipython",
    "version": 2
   },
   "file_extension": ".py",
   "mimetype": "text/x-python",
   "name": "python",
   "nbconvert_exporter": "python",
   "pygments_lexer": "ipython2",
   "version": "2.7.6"
  }
 },
 "nbformat": 4,
 "nbformat_minor": 0
}