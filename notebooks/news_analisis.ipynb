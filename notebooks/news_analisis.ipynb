{
 "cells": [
  {
   "cell_type": "code",
   "execution_count": 166,
   "outputs": [
    {
     "name": "stderr",
     "output_type": "stream",
     "text": [
      "06/22/2022 23:48:54 - INFO - happytransformer.happy_transformer -   Using model: cpu\n"
     ]
    }
   ],
   "source": [
    "from happytransformer import HappyTextClassification\n",
    "from dataclasses import dataclass\n",
    "from typing import Callable\n",
    "from pathlib import Path\n",
    "from newsapi import NewsApiClient\n",
    "from datetime import date\n",
    "from newspaper import Article\n",
    "import nltk\n",
    "\n",
    "nltk.data.path = [str(Path().resolve().parent.joinpath(\"nltk_data\"))]\n",
    "\n",
    "# nltk.download(\"punkt\", download_dir=\"./nltk_data\")\n",
    "\n",
    "@dataclass\n",
    "class Digest:\n",
    "    html: str\n",
    "    authors: str\n",
    "    publish_date: str\n",
    "    keywords: str\n",
    "    summary: str\n",
    "    title: str\n",
    "    text: str\n",
    "\n",
    "def process_article(url: str) -> Callable:\n",
    "    article = Article(url)\n",
    "    def _process_article() -> Digest:\n",
    "        article.download()\n",
    "        article.parse()\n",
    "        article.nlp()\n",
    "        return Digest(\n",
    "            html=article.html,\n",
    "            authors=article.authors,\n",
    "            publish_date=article.publish_date,\n",
    "            keywords=article.keywords,\n",
    "            summary=article.summary,\n",
    "            title=article.title,\n",
    "            text=article.text,\n",
    "        )\n",
    "    return _process_article\n",
    "\n",
    "classifier = HappyTextClassification(\n",
    "    model_type=\"DISTILBERT\", num_labels=2,\n",
    "    model_name=\"distilbert-base-uncased-finetuned-sst-2-english\")\n"
   ],
   "metadata": {
    "collapsed": false,
    "pycharm": {
     "name": "#%%\n"
    }
   }
  },
  {
   "cell_type": "code",
   "execution_count": 167,
   "outputs": [
    {
     "data": {
      "text/plain": "420"
     },
     "execution_count": 167,
     "metadata": {},
     "output_type": "execute_result"
    }
   ],
   "source": [
    "# Init pass 9gPj8KZ8XJsLbcT\n",
    "api = NewsApiClient(api_key='98d763c2280d4820913c4abf3ff0270b')\n",
    "\n",
    "# /v2/everything\n",
    "all_articles = api.get_everything(q='bitcoin',\n",
    "                                  # sources='bbc-news,the-verge,Bloomberg',\n",
    "                                  # category='business',\n",
    "                                  from_param=date.today(),\n",
    "                                  language='en')\n",
    "\n",
    "# /v2/top-headlines/sources\n",
    "# sources = api.get_sources()\n",
    "\n",
    "all_articles[\"totalResults\"]"
   ],
   "metadata": {
    "collapsed": false,
    "pycharm": {
     "name": "#%%\n"
    }
   }
  },
  {
   "cell_type": "code",
   "execution_count": 168,
   "outputs": [
    {
     "data": {
      "text/plain": "TextClassificationResult(label='NEGATIVE', score=0.9898502826690674)"
     },
     "execution_count": 168,
     "metadata": {},
     "output_type": "execute_result"
    }
   ],
   "source": [
    "articles = list([{\"title\":article[\"title\"], \"url\":article[\"url\"]} for article in all_articles[\"articles\"]])\n",
    "\n",
    "digest: Digest = process_article(articles[0][\"url\"])()\n",
    "\n",
    "result = classifier.classify_text(digest.summary)\n",
    "\n",
    "result"
   ],
   "metadata": {
    "collapsed": false,
    "pycharm": {
     "name": "#%%\n"
    }
   }
  },
  {
   "cell_type": "code",
   "execution_count": 169,
   "outputs": [
    {
     "data": {
      "text/plain": "'FTX\\'s Sam Bankman-Fried has provided a $250 million loan to bail out crypto lender BlockFi.\\nThe crypto billionaire also loaned broker Voyager Digital $485 million in cash and bitcoin last week.\\n\"Today we\\'re injecting $250 million into BlockFi and partnering with them so they can navigate the market from a position of strength,\" Bankman-Fried announced Tuesday.\\nMajor lender Celsius announced it was freezing all withdrawals, and BlockFi and Voyager have both suffered significant losses as major cryptocurrencies plunged.\\n\"Sam Bankman-Fried is the new John Pierpont Morgan,\" Scaramucci told Bloomberg.'"
     },
     "execution_count": 169,
     "metadata": {},
     "output_type": "execute_result"
    }
   ],
   "source": [
    "digest.summary"
   ],
   "metadata": {
    "collapsed": false,
    "pycharm": {
     "name": "#%%\n"
    }
   }
  }
 ],
 "metadata": {
  "kernelspec": {
   "display_name": "Python 3",
   "language": "python",
   "name": "python3"
  },
  "language_info": {
   "codemirror_mode": {
    "name": "ipython",
    "version": 2
   },
   "file_extension": ".py",
   "mimetype": "text/x-python",
   "name": "python",
   "nbconvert_exporter": "python",
   "pygments_lexer": "ipython2",
   "version": "2.7.6"
  }
 },
 "nbformat": 4,
 "nbformat_minor": 0
}